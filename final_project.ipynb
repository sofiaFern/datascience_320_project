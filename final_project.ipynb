{
 "cells": [
  {
   "cell_type": "markdown",
   "metadata": {},
   "source": [
    "# Understanding the Demographics of Technica and Analyzing its Influence\n",
    "\n",
    "### By Raghav Chetal and Sofia Fernandez-Poyatos\n",
    "\n",
    "![](technica_cover.jpg)"
   ]
  },
  {
   "cell_type": "markdown",
   "metadata": {},
   "source": [
    "## Motivation\n",
    "\n",
    "Computer Science has always been a generally male-dominated career, with only eighteen percent of all computer scientists being women. Technica is the world's largest all-women and nonbinary hackathon, hosted annually at the University of Maryland. Since its inception in 2015, Technica has been putting a spotlight on women in the computer science workplace and empowering them to succeed. \n",
    "<br><br>\n",
    "Over the course of this 24 hour hackathon, women and non-binary people experience the very best of tech culture and are encouraged to think out of the box and develop immersive and amazing projects.\n",
    "<br><br>\n",
    "The goal of this tutorial is to look at the overall reach of Technica as a whole, and understand the demographics of the attendees using data collected in 2018 including:\n",
    "<br>\n",
    "* Age\n",
    "* Major\n",
    "* School\n",
    "* Gender\n",
    "* State\n",
    "* Institution\n",
    "* Retention Rate\n",
    "* Minors\n",
    "\n",
    "## Required Libraries/Tools¶\n",
    "\n",
    "The following libraries/tools will be used throughout the project and are required to replicate the findings here. All of the tools below are listed with their use in this project. To install the packages without visiting the webpages, you can use $ pip3 install [library name].\n",
    "<br>\n",
    "* _pandas_ : a data analysis toolkit which makes storing and accessing data easier\n",
    "* _numpy_ : a package for mathematical computing\n",
    "* _seaborns_ : creating graphs\n",
    "* _folium_ : creating map visualizations\n",
    "* _sklearn_ : making regressions and doing statistical analysis"
   ]
  },
  {
   "cell_type": "code",
   "execution_count": null,
   "metadata": {},
   "outputs": [],
   "source": [
    "import pandas as pd\n",
    "import numpy as np\n",
    "import seaborn as sns\n",
    "import folium\n",
    "import sklearn\n",
    "\n",
    "%matplotlib inline\n",
    "matplotlib.style.use(\"ggplot\")\n",
    "\n",
    "data = pd.read_csv(\"technica_data_2018.csv\")\n",
    "data.head()"
   ]
  },
  {
   "cell_type": "code",
   "execution_count": null,
   "metadata": {},
   "outputs": [],
   "source": []
  }
 ],
 "metadata": {
  "kernelspec": {
   "display_name": "Python 3",
   "language": "python",
   "name": "python3"
  },
  "language_info": {
   "codemirror_mode": {
    "name": "ipython",
    "version": 3
   },
   "file_extension": ".py",
   "mimetype": "text/x-python",
   "name": "python",
   "nbconvert_exporter": "python",
   "pygments_lexer": "ipython3",
   "version": "3.7.4"
  }
 },
 "nbformat": 4,
 "nbformat_minor": 2
}
